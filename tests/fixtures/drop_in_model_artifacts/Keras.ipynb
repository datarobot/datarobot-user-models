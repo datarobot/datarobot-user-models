{
 "cells": [
  {
   "cell_type": "code",
   "execution_count": null,
   "metadata": {},
   "outputs": [],
   "source": [
    "import os\n",
    "import pandas as pd\n",
    "from sklearn.preprocessing import LabelEncoder\n",
    "\n",
    "# using tensorflow>=2.2.1 with built-in Keras\n",
    "from tensorflow.keras.models import Sequential, load_model\n",
    "from tensorflow.keras.layers import Dense, Activation, Dropout, PReLU\n",
    "import tensorflow.keras.utils as np_utils"
   ]
  },
  {
   "cell_type": "code",
   "execution_count": null,
   "metadata": {},
   "outputs": [],
   "source": [
    "TEST_DATA_ROOT = '~/workspace/datarobot-user-models/tests/testdata'\n",
    "BINARY_DATA = os.path.join(\n",
    "    TEST_DATA_ROOT, 'iris_binary_training.csv'\n",
    ")\n",
    "REGRESSION_DATA = os.path.join(\n",
    "    TEST_DATA_ROOT, 'juniors_3_year_stats_regression.csv'\n",
    ")\n",
    "MULTICLASS_DATA = os.path.join(\n",
    "    TEST_DATA_ROOT, 'skyserver_sql2_27_2018_6_51_39_pm.csv'\n",
    ")\n",
    "\n",
    "bin_X = pd.read_csv(BINARY_DATA)\n",
    "bin_y = bin_X.pop('Species')\n",
    "\n",
    "reg_X = pd.read_csv(REGRESSION_DATA).fillna(0)\n",
    "reg_y = reg_X.pop('Grade 2014')\n",
    "\n",
    "multi_X = pd.read_csv(MULTICLASS_DATA)\n",
    "multi_y = multi_X.pop('class')"
   ]
  },
  {
   "cell_type": "code",
   "execution_count": null,
   "metadata": {},
   "outputs": [],
   "source": [
    "bin_model = Sequential([\n",
    "    Dense(50, input_dim=bin_X.shape[1]),\n",
    "    Activation('relu'),\n",
    "    Dropout(0.2),\n",
    "    Dense(100),\n",
    "    PReLU(),\n",
    "    Dense(1),\n",
    "    Activation('sigmoid')\n",
    "])\n",
    "bin_model.compile(optimizer='rmsprop',\n",
    "              loss='binary_crossentropy',\n",
    "              metrics=['accuracy'])\n",
    "bin_target_encoder = LabelEncoder()\n",
    "bin_target_encoder.fit(bin_y)\n",
    "bin_model.fit(bin_X, bin_target_encoder.transform(bin_y), epochs=10, batch_size=32)\n",
    "\n",
    "reg_model = Sequential([\n",
    "    Dense(50, input_dim=reg_X.shape[1]),\n",
    "    Activation('relu'),\n",
    "    Dropout(0.2),\n",
    "    Dense(100),\n",
    "    PReLU(),\n",
    "    Dense(1),\n",
    "])\n",
    "reg_model.compile(optimizer='adam',\n",
    "              loss='mean_squared_error',\n",
    "              metrics=['accuracy'])\n",
    "reg_model.fit(reg_X, reg_y, epochs=10, batch_size=32)\n",
    "\n",
    "multi_target_encoder = LabelEncoder()\n",
    "multi_target_encoder.fit(multi_y)\n",
    "multi_model = Sequential()\n",
    "multi_model.add(Dense(8, input_dim=multi_X.shape[1], activation='relu'))\n",
    "multi_model.add(Dense(len(multi_target_encoder.classes_), activation='softmax'))\n",
    "multi_model.compile(optimizer='adam',\n",
    "              loss='categorical_crossentropy',\n",
    "              metrics=['accuracy'])\n",
    "multi_model.fit(multi_X, np_utils.to_categorical(multi_target_encoder.transform(multi_y)), epochs=10, batch_size=32)"
   ]
  },
  {
   "cell_type": "code",
   "execution_count": null,
   "metadata": {},
   "outputs": [],
   "source": [
    "print(bin_model.predict(pd.DataFrame(bin_X)))\n",
    "print(reg_model.predict(pd.DataFrame(reg_X)))\n",
    "print(multi_model.predict(pd.DataFrame(multi_X)))"
   ]
  },
  {
   "cell_type": "code",
   "execution_count": null,
   "metadata": {},
   "outputs": [],
   "source": [
    "FIXTURE_ROOT = '~/workspace/datarobot-user-models/tests/fixtures/drop_in_model_artifacts'\n",
    "bin_model.save(os.path.expanduser(os.path.join(FIXTURE_ROOT, 'keras_bin.h5')))\n",
    "reg_model.save(os.path.expanduser(os.path.join(FIXTURE_ROOT, 'keras_reg.h5')))\n",
    "multi_model.save(os.path.expanduser(os.path.join(FIXTURE_ROOT, 'keras_multi.h5')))"
   ]
  },
  {
   "cell_type": "code",
   "execution_count": null,
   "metadata": {},
   "outputs": [],
   "source": []
  }
 ],
 "metadata": {
  "kernelspec": {
   "display_name": "Python 3",
   "language": "python",
   "name": "python3"
  },
  "language_info": {
   "codemirror_mode": {
    "name": "ipython",
    "version": 3
   },
   "file_extension": ".py",
   "mimetype": "text/x-python",
   "name": "python",
   "nbconvert_exporter": "python",
   "pygments_lexer": "ipython3",
   "version": "3.7.7"
  }
 },
 "nbformat": 4,
 "nbformat_minor": 2
}