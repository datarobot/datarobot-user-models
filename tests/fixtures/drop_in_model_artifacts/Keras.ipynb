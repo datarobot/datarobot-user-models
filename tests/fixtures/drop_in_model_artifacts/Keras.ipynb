{
 "cells": [
  {
   "cell_type": "code",
   "execution_count": null,
   "metadata": {},
   "outputs": [],
   "source": [
    "import pickle\n",
    "import pandas as pd\n",
    "import numpy as np\n",
    "from sklearn.preprocessing import LabelEncoder\n",
    "\n",
    "import keras\n",
    "from keras.models import Sequential, load_model\n",
    "from keras.layers import Dense, Activation, Dropout, PReLU"
   ]
  },
  {
   "cell_type": "code",
   "execution_count": null,
   "metadata": {},
   "outputs": [],
   "source": [
    "BINARY_DATA = (\n",
    "    'iris_binary_training.csv'\n",
    ")\n",
    "REGRESSION_DATA = (\n",
    "    'boston_housing.csv'\n",
    ")\n",
    "\n",
    "bin_X = pd.read_csv(BINARY_DATA)\n",
    "bin_y = bin_X.pop('Species')\n",
    "\n",
    "reg_X = pd.read_csv(REGRESSION_DATA)\n",
    "reg_y = reg_X.pop('MEDV')"
   ]
  },
  {
   "cell_type": "code",
   "execution_count": null,
   "metadata": {},
   "outputs": [],
   "source": [
    "bin_model = Sequential([\n",
    "    Dense(50, input_dim=bin_X.shape[1]),\n",
    "    Activation('relu'),\n",
    "    Dropout(0.2),\n",
    "    Dense(100),\n",
    "    PReLU(),\n",
    "    Dense(1),\n",
    "    Activation('sigmoid')\n",
    "])\n",
    "bin_model.compile(optimizer='rmsprop',\n",
    "              loss='binary_crossentropy',\n",
    "              metrics=['accuracy'])\n",
    "target_encoder = LabelEncoder()\n",
    "target_encoder.fit(bin_y)\n",
    "bin_model.fit(bin_X, target_encoder.transform(bin_y), epochs=10, batch_size=32)\n",
    "\n",
    "reg_model = Sequential([\n",
    "    Dense(50, input_dim=reg_X.shape[1]),\n",
    "    Activation('relu'),\n",
    "    Dropout(0.2),\n",
    "    Dense(100),\n",
    "    PReLU(),\n",
    "    Dense(1),\n",
    "])\n",
    "reg_model.compile(optimizer='adam',\n",
    "              loss='mean_squared_error',\n",
    "              metrics=['accuracy'])\n",
    "reg_model.fit(reg_X, reg_y, epochs=10, batch_size=32)"
   ]
  },
  {
   "cell_type": "code",
   "execution_count": null,
   "metadata": {},
   "outputs": [],
   "source": [
    "print(bin_model.predict(pd.DataFrame(bin_X)))\n",
    "print(reg_model.predict(pd.DataFrame(reg_X)))"
   ]
  },
  {
   "cell_type": "code",
   "execution_count": null,
   "metadata": {},
   "outputs": [],
   "source": [
    "bin_model.save('keras_bin.h5')\n",
    "reg_model.save('keras_reg.h5')"
   ]
  }
 ],
 "metadata": {
  "kernelspec": {
   "display_name": "Python 3",
   "language": "python",
   "name": "python3"
  },
  "language_info": {
   "codemirror_mode": {
    "name": "ipython",
    "version": 3
   },
   "file_extension": ".py",
   "mimetype": "text/x-python",
   "name": "python",
   "nbconvert_exporter": "python",
   "pygments_lexer": "ipython3",
   "version": "3.7.3"
  }
 },
 "nbformat": 4,
 "nbformat_minor": 2
}