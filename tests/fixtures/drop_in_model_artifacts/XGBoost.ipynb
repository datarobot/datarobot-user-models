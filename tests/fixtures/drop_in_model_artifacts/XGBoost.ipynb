{
 "cells": [
  {
   "cell_type": "code",
   "execution_count": null,
   "metadata": {},
   "outputs": [],
   "source": [
    "import os\n",
    "import pickle\n",
    "import pandas as pd\n",
    "import numpy as np\n",
    "from sklearn.preprocessing import LabelEncoder\n",
    "import xgboost as xgb"
   ]
  },
  {
   "cell_type": "code",
   "execution_count": null,
   "metadata": {},
   "outputs": [],
   "source": [
    "TEST_DATA_ROOT = '~/workspace/datarobot-user-models/tests/testdata'\n",
    "BINARY_DATA = os.path.join(\n",
    "    TEST_DATA_ROOT, 'iris_binary_training.csv'\n",
    ")\n",
    "REGRESSION_DATA = os.path.join(\n",
    "    TEST_DATA_ROOT, 'juniors_3_year_stats_regression.csv'\n",
    ")\n",
    "MULTICLASS_DATA = os.path.join(\n",
    "    TEST_DATA_ROOT, 'skyserver_sql2_27_2018_6_51_39_pm.csv'\n",
    ")\n",
    "\n",
    "bin_X = pd.read_csv(BINARY_DATA)\n",
    "bin_y = bin_X.pop('Species')\n",
    "\n",
    "reg_X = pd.read_csv(REGRESSION_DATA)\n",
    "reg_y = reg_X.pop('Grade 2014')\n",
    "\n",
    "multi_X = pd.read_csv(MULTICLASS_DATA)\n",
    "multi_y = multi_X.pop('class')"
   ]
  },
  {
   "cell_type": "code",
   "execution_count": null,
   "metadata": {},
   "outputs": [],
   "source": [
    "bin_target_encoder = LabelEncoder()\n",
    "bin_target_encoder.fit(bin_y)\n",
    "bin_dtrain = xgb.DMatrix(bin_X, bin_target_encoder.transform(bin_y))\n",
    "bin_model = xgb.train({'objective':'binary:logistic'}, bin_dtrain)\n",
    "\n",
    "reg_dtrain = xgb.DMatrix(reg_X, reg_y)\n",
    "reg_model = xgb.train({'objective':'reg:squarederror'}, reg_dtrain)\n",
    "\n",
    "multi_target_encoder = LabelEncoder()\n",
    "multi_target_encoder.fit(multi_y)\n",
    "multi_dtrain = xgb.DMatrix(multi_X, multi_target_encoder.transform(multi_y))\n",
    "multi_model = xgb.train({'objective':'multi:softprob', 'num_class': len(multi_target_encoder.classes_)}, multi_dtrain)"
   ]
  },
  {
   "cell_type": "code",
   "execution_count": null,
   "metadata": {},
   "outputs": [],
   "source": [
    "bin_dtest = xgb.DMatrix(bin_X)\n",
    "print(bin_model.predict(bin_dtest))\n",
    "reg_dtest = xgb.DMatrix(reg_X)\n",
    "print(reg_model.predict(reg_dtest))\n",
    "multi_dtest = xgb.DMatrix(multi_X)\n",
    "print(multi_model.predict(multi_dtest))"
   ]
  },
  {
   "cell_type": "code",
   "execution_count": null,
   "metadata": {},
   "outputs": [],
   "source": [
    "FIXTURE_ROOT = '~/workspace/datarobot-user-models/tests/fixtures/drop_in_model_artifacts'\n",
    "with open(os.path.expanduser(os.path.join(FIXTURE_ROOT, 'xgb_bin.pkl')), 'wb') as picklefile:\n",
    "    pickle.dump(bin_model, picklefile)\n",
    "with open(os.path.expanduser(os.path.join(FIXTURE_ROOT, 'xgb_reg.pkl')), 'wb') as picklefile:\n",
    "    pickle.dump(reg_model, picklefile)\n",
    "with open(os.path.expanduser(os.path.join(FIXTURE_ROOT, 'xgb_multi.pkl')), 'wb') as picklefile:\n",
    "    pickle.dump(multi_model, picklefile)"
   ]
  },
  {
   "cell_type": "code",
   "execution_count": null,
   "metadata": {},
   "outputs": [],
   "source": []
  }
 ],
 "metadata": {
  "kernelspec": {
   "display_name": "Python 3",
   "language": "python",
   "name": "python3"
  },
  "language_info": {
   "codemirror_mode": {
    "name": "ipython",
    "version": 3
   },
   "file_extension": ".py",
   "mimetype": "text/x-python",
   "name": "python",
   "nbconvert_exporter": "python",
   "pygments_lexer": "ipython3",
   "version": "3.7.7"
  }
 },
 "nbformat": 4,
 "nbformat_minor": 2
}