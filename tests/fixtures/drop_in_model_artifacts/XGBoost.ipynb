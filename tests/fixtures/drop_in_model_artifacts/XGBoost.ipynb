{
 "cells": [
  {
   "cell_type": "code",
   "execution_count": null,
   "metadata": {},
   "outputs": [],
   "source": [
    "import pickle\n",
    "import pandas as pd\n",
    "import numpy as np\n",
    "from sklearn.preprocessing import LabelEncoder\n",
    "import xgboost as xgb"
   ]
  },
  {
   "cell_type": "code",
   "execution_count": null,
   "metadata": {},
   "outputs": [],
   "source": [
    "BINARY_DATA = (\n",
    "    'iris_binary_training.csv'\n",
    ")\n",
    "REGRESSION_DATA = (\n",
    "    'boston_housing.csv'\n",
    ")\n",
    "\n",
    "bin_X = pd.read_csv(BINARY_DATA)\n",
    "bin_y = bin_X.pop('Species')\n",
    "\n",
    "reg_X = pd.read_csv(REGRESSION_DATA)\n",
    "reg_y = reg_X.pop('MEDV')"
   ]
  },
  {
   "cell_type": "code",
   "execution_count": null,
   "metadata": {},
   "outputs": [],
   "source": [
    "target_encoder = LabelEncoder()\n",
    "target_encoder.fit(bin_y)\n",
    "bin_dtrain = xgb.DMatrix(bin_X, target_encoder.transform(bin_y))\n",
    "bin_model = xgb.train({'objective':'binary:logistic'}, bin_dtrain)\n",
    "\n",
    "reg_dtrain = xgb.DMatrix(reg_X, reg_y)\n",
    "reg_model = xgb.train({'objective':'reg:squarederror'}, reg_dtrain)"
   ]
  },
  {
   "cell_type": "code",
   "execution_count": null,
   "metadata": {},
   "outputs": [],
   "source": [
    "bin_dtest = xgb.DMatrix(bin_X)\n",
    "print(bin_model.predict(bin_dtest))\n",
    "reg_dtest = xgb.DMatrix(reg_X)\n",
    "print(reg_model.predict(reg_dtest))"
   ]
  },
  {
   "cell_type": "code",
   "execution_count": null,
   "metadata": {},
   "outputs": [],
   "source": [
    "with open('xgb_bin.pkl', 'wb') as picklefile:\n",
    "    pickle.dump(bin_model, picklefile)\n",
    "with open('xgb_reg.pkl', 'wb') as picklefile:\n",
    "    pickle.dump(reg_model, picklefile)"
   ]
  }
 ],
 "metadata": {
  "kernelspec": {
   "display_name": "Python 3",
   "language": "python",
   "name": "python3"
  },
  "language_info": {
   "codemirror_mode": {
    "name": "ipython",
    "version": 3
   },
   "file_extension": ".py",
   "mimetype": "text/x-python",
   "name": "python",
   "nbconvert_exporter": "python",
   "pygments_lexer": "ipython3",
   "version": "3.7.3"
  }
 },
 "nbformat": 4,
 "nbformat_minor": 2
}