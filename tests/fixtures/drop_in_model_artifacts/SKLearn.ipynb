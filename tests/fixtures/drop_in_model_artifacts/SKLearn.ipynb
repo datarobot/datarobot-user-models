{
 "cells": [
  {
   "cell_type": "code",
   "execution_count": null,
   "metadata": {},
   "outputs": [],
   "source": [
    "import pickle\n",
    "import pandas as pd\n",
    "import numpy as np\n",
    "from sklearn.ensemble import ExtraTreesClassifier, ExtraTreesRegressor\n",
    "import os"
   ]
  },
  {
   "cell_type": "code",
   "execution_count": null,
   "metadata": {
    "pycharm": {
     "name": "#%%\n"
    }
   },
   "outputs": [],
   "source": [
    "TEST_DATA_ROOT = '~/workspace/datarobot-user-models/tests/testdata'\n",
    "BINARY_DATA = os.path.join(\n",
    "    TEST_DATA_ROOT, 'iris_binary_training.csv'\n",
    ")\n",
    "REGRESSION_DATA = os.path.join(\n",
    "    TEST_DATA_ROOT, 'juniors_3_year_stats_regression.csv'\n",
    ")\n",
    "MULTICLASS_DATA = os.path.join(\n",
    "    TEST_DATA_ROOT, 'skyserver_sql2_27_2018_6_51_39_pm.csv'\n",
    ")\n",
    "\n",
    "bin_X = pd.read_csv(BINARY_DATA)\n",
    "bin_y = bin_X.pop('Species')\n",
    "\n",
    "reg_X = pd.read_csv(REGRESSION_DATA).fillna(0)\n",
    "reg_y = reg_X.pop('Grade 2014')\n",
    "\n",
    "multi_X = pd.read_csv(MULTICLASS_DATA)\n",
    "multi_y = multi_X.pop('class')"
   ]
  },
  {
   "cell_type": "code",
   "execution_count": null,
   "outputs": [],
   "source": [
    "bin_model = ExtraTreesClassifier()\n",
    "bin_model.fit(bin_X, bin_y)\n",
    "\n",
    "\n",
    "\n",
    "reg_model = ExtraTreesRegressor()\n",
    "reg_model.fit(reg_X, reg_y)\n",
    "\n",
    "multi_model = ExtraTreesClassifier()\n",
    "multi_model.fit(multi_X, multi_y)"
   ],
   "metadata": {
    "collapsed": false,
    "pycharm": {
     "name": "#%%\n"
    }
   }
  },
  {
   "cell_type": "code",
   "execution_count": null,
   "outputs": [],
   "source": [
    "print(bin_model.predict_proba(bin_X))\n",
    "print(reg_model.predict(reg_X))\n",
    "print(multi_model.predict_proba(multi_X))"
   ],
   "metadata": {
    "collapsed": false,
    "pycharm": {
     "name": "#%%\n"
    }
   }
  },
  {
   "cell_type": "code",
   "execution_count": null,
   "outputs": [],
   "source": [
    "FIXTURE_ROOT = '~/workspace/datarobot-user-models/tests/fixtures/drop_in_model_artifacts'\n",
    "with open(os.path.expanduser(os.path.join(FIXTURE_ROOT, 'sklearn_bin.pkl')), 'wb') as picklefile:\n",
    "    pickle.dump(bin_model, picklefile)\n",
    "with open(os.path.expanduser(os.path.join(FIXTURE_ROOT, 'sklearn_reg.pkl')), 'wb') as picklefile:\n",
    "    pickle.dump(reg_model, picklefile)\n",
    "with open(os.path.expanduser(os.path.join(FIXTURE_ROOT, 'sklearn_multi.pkl')), 'wb') as picklefile:\n",
    "    pickle.dump(multi_model, picklefile)"
   ],
   "metadata": {
    "collapsed": false,
    "pycharm": {
     "name": "#%%\n"
    }
   }
  },
  {
   "cell_type": "code",
   "execution_count": null,
   "outputs": [],
   "source": [],
   "metadata": {
    "collapsed": false,
    "pycharm": {
     "name": "#%%\n"
    }
   }
  }
 ],
 "metadata": {
  "kernelspec": {
   "display_name": "Python 3",
   "language": "python",
   "name": "python3"
  },
  "language_info": {
   "codemirror_mode": {
    "name": "ipython",
    "version": 3
   },
   "file_extension": ".py",
   "mimetype": "text/x-python",
   "name": "python",
   "nbconvert_exporter": "python",
   "pygments_lexer": "ipython3",
   "version": "3.7.7"
  }
 },
 "nbformat": 4,
 "nbformat_minor": 2
}