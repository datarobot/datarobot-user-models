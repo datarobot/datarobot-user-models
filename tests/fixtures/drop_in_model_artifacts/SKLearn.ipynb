{
 "cells": [
  {
   "cell_type": "code",
   "execution_count": null,
   "metadata": {},
   "outputs": [],
   "source": [
    "import pickle\n",
    "import pandas as pd\n",
    "import numpy as np\n",
    "from sklearn.svm import SVC, SVR\n",
    "import os"
   ]
  },
  {
   "cell_type": "code",
   "execution_count": null,
   "metadata": {},
   "outputs": [],
   "source": [
    "BINARY_DATA = (\n",
    "    'iris_binary_training.csv'\n",
    ")\n",
    "REGRESSION_DATA = (\n",
    "    'boston_housing.csv'\n",
    ")\n",
    "\n",
    "bin_X = pd.read_csv(BINARY_DATA)\n",
    "bin_y = bin_X.pop('Species')\n",
    "\n",
    "reg_X = pd.read_csv(REGRESSION_DATA)\n",
    "reg_Y = reg_X.pop('MEDV')"
   ]
  },
  {
   "cell_type": "code",
   "execution_count": null,
   "metadata": {},
   "outputs": [],
   "source": [
    "bin_model = SVC(probability=True)\n",
    "bin_model.fit(bin_X, bin_y)\n",
    "\n",
    "reg_model = SVR()\n",
    "reg_model.fit(reg_X, reg_Y)"
   ]
  },
  {
   "cell_type": "code",
   "execution_count": null,
   "metadata": {},
   "outputs": [],
   "source": [
    "#print(bin_model.predict_proba(bin_X))\n",
    "#print(reg_model.predict(reg_X))"
   ]
  },
  {
   "cell_type": "code",
   "execution_count": null,
   "metadata": {},
   "outputs": [],
   "source": [
    "with open('sklearn_bin.pkl', 'wb') as pkl:\n",
    "    pickle.dump(bin_model, pkl)\n",
    "with open('sklearn_reg.pkl', 'wb') as pkl:\n",
    "    pickle.dump(reg_model, pkl)"
   ]
  }
 ],
 "metadata": {
  "kernelspec": {
   "display_name": "Python 3",
   "language": "python",
   "name": "python3"
  },
  "language_info": {
   "codemirror_mode": {
    "name": "ipython",
    "version": 3
   },
   "file_extension": ".py",
   "mimetype": "text/x-python",
   "name": "python",
   "nbconvert_exporter": "python",
   "pygments_lexer": "ipython3",
   "version": "3.7.3"
  }
 },
 "nbformat": 4,
 "nbformat_minor": 2
}